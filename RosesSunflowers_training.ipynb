{
  "nbformat": 4,
  "nbformat_minor": 0,
  "metadata": {
    "colab": {
      "provenance": [],
      "gpuType": "T4"
    },
    "kernelspec": {
      "name": "python3",
      "display_name": "Python 3"
    },
    "language_info": {
      "name": "python"
    },
    "accelerator": "GPU"
  },
  "cells": [
    {
      "cell_type": "markdown",
      "source": [
        "# Train a model to differ between this two kind of flowers\n",
        "Train the model using the created dataset and save the model to use it in the future Flask app."
      ],
      "metadata": {
        "id": "ZJ3KI3LsMsOS"
      }
    },
    {
      "cell_type": "code",
      "execution_count": null,
      "metadata": {
        "id": "r0Sbn7vWJLFq"
      },
      "outputs": [],
      "source": [
        "!unzip -q \"/content/drive/MyDrive/flower_dataset.zip\" -d \"/content/flower_dataset\""
      ]
    },
    {
      "cell_type": "markdown",
      "source": [
        "## Choose a model to decide which features are in each group\n",
        "We will made some experiments to choose the best model to do it. At first we will train as a base model a home built Convolutional neural network.\n",
        "### Load the dataset\n",
        "TensorFlow makes it easy to load images from directories using the image_dataset_from_directory method."
      ],
      "metadata": {
        "id": "cnGvM2g4uTXS"
      }
    },
    {
      "cell_type": "code",
      "source": [
        "import tensorflow as tf\n",
        "from tensorflow.keras.preprocessing import image_dataset_from_directory\n",
        "\n",
        "# Define the path to the dataset\n",
        "dataset_path = 'flower_dataset'\n",
        "\n",
        "# Load the dataset\n",
        "batch_size = 32\n",
        "img_height = 180\n",
        "img_width = 180\n",
        "\n",
        "train_ds = image_dataset_from_directory(\n",
        "    dataset_path,\n",
        "    validation_split=0.2,\n",
        "    subset=\"training\",\n",
        "    seed=123,\n",
        "    image_size=(img_height, img_width),\n",
        "    batch_size=batch_size)\n",
        "\n",
        "val_ds = image_dataset_from_directory(\n",
        "    dataset_path,\n",
        "    validation_split=0.2,\n",
        "    subset=\"validation\",\n",
        "    seed=123,\n",
        "    image_size=(img_height, img_width),\n",
        "    batch_size=batch_size)\n"
      ],
      "metadata": {
        "colab": {
          "base_uri": "https://localhost:8080/"
        },
        "id": "lmqsYgppuSTK",
        "outputId": "c49ae10a-78c4-4d7a-8763-ff10ab79aa8e"
      },
      "execution_count": null,
      "outputs": [
        {
          "output_type": "stream",
          "name": "stdout",
          "text": [
            "Found 768 files belonging to 2 classes.\n",
            "Using 615 files for training.\n",
            "Found 768 files belonging to 2 classes.\n",
            "Using 153 files for validation.\n"
          ]
        }
      ]
    },
    {
      "cell_type": "markdown",
      "source": [
        "## Preprocess the Data\n",
        "You can use the prefetch and cache methods to optimize loading speed. Data augmentation is also a good practice to increase the diversity of your training dataset."
      ],
      "metadata": {
        "id": "Yb4Hj8bFwM7E"
      }
    },
    {
      "cell_type": "code",
      "source": [
        "AUTOTUNE = tf.data.AUTOTUNE\n",
        "\n",
        "train_ds = train_ds.cache().shuffle(1000).prefetch(buffer_size=AUTOTUNE)\n",
        "val_ds = val_ds.cache().prefetch(buffer_size=AUTOTUNE)\n",
        "\n",
        "data_augmentation = tf.keras.Sequential([\n",
        "  tf.keras.layers.experimental.preprocessing.RandomFlip(\"horizontal_and_vertical\"),  # Flips the images both horizontally and vertically.\n",
        "  tf.keras.layers.experimental.preprocessing.RandomRotation(0.2),  # Rotates the images by up to 20% of 360 degrees.\n",
        "  tf.keras.layers.experimental.preprocessing.RandomZoom(0.2),  # Zooms into the images by up to 20%.\n",
        "  tf.keras.layers.experimental.preprocessing.RandomTranslation(height_factor=0.1, width_factor=0.1),  # Translates the images up to 10% vertically and horizontally.\n",
        "  tf.keras.layers.experimental.preprocessing.RandomContrast(0.1),  # Randomly adjusts the contrast of the images by up to 10%.\n",
        "])\n"
      ],
      "metadata": {
        "id": "LNtB0AYLwWcz"
      },
      "execution_count": null,
      "outputs": []
    },
    {
      "cell_type": "markdown",
      "source": [
        "## Create the model\n",
        "We'll use a simple CNN architecture for this example. For more complex tasks, consider using a pre-trained model with transfer learning.\n"
      ],
      "metadata": {
        "id": "KMyBeehdwduR"
      }
    },
    {
      "cell_type": "code",
      "source": [
        "from tensorflow.keras import regularizers\n",
        "import tensorflow as tf\n",
        "\n",
        "model = tf.keras.Sequential([\n",
        "    data_augmentation,\n",
        "\n",
        "    # Input layer with rescaling: Adjust according to your dataset\n",
        "    tf.keras.layers.experimental.preprocessing.Rescaling(1./255, input_shape=(180, 180, 3)),\n",
        "\n",
        "    # Convolutional layer with L2 regularization\n",
        "    tf.keras.layers.Conv2D(32, (3, 3), activation='relu', kernel_regularizer=regularizers.l2(0.001)),\n",
        "    tf.keras.layers.MaxPooling2D((2, 2)),\n",
        "\n",
        "    # Dropout layer\n",
        "    tf.keras.layers.Dropout(0.2),\n",
        "\n",
        "    # Another convolutional layer with L2 regularization\n",
        "    tf.keras.layers.Conv2D(64, (3, 3), activation='relu', kernel_regularizer=regularizers.l2(0.001)),\n",
        "    tf.keras.layers.MaxPooling2D((2, 2)),\n",
        "\n",
        "    # Dropout layer\n",
        "    tf.keras.layers.Dropout(0.2),\n",
        "\n",
        "    # Flattening the convolutions\n",
        "    tf.keras.layers.Flatten(),\n",
        "\n",
        "    # Dense layer with L2 regularization\n",
        "    tf.keras.layers.Dense(128, activation='relu', kernel_regularizer=regularizers.l2(0.001)),\n",
        "\n",
        "    # Dropout layer before the output\n",
        "    tf.keras.layers.Dropout(0.5),\n",
        "\n",
        "    # Output layer\n",
        "    tf.keras.layers.Dense(2, activation='softmax')\n",
        "])"
      ],
      "metadata": {
        "id": "M3PSjNGWw2mN"
      },
      "execution_count": null,
      "outputs": []
    },
    {
      "cell_type": "markdown",
      "source": [
        "## Compile the model\n"
      ],
      "metadata": {
        "id": "PkxH4nIzw8c4"
      }
    },
    {
      "cell_type": "code",
      "source": [
        "early_stopping = tf.keras.callbacks.EarlyStopping(\n",
        "    monitor='val_loss', # Metric to monitor\n",
        "    patience=10,         # How many epochs to wait after last time the monitored metric improved\n",
        "    verbose=1,          # To log when training is stopped\n",
        "    restore_best_weights=True # Restores model weights from the epoch with the best value of the monitored metric.\n",
        ")\n",
        "\n",
        "model.compile(optimizer='adam',\n",
        "              loss=tf.keras.losses.SparseCategoricalCrossentropy(from_logits=True),\n",
        "              metrics=['accuracy'])"
      ],
      "metadata": {
        "id": "A_pun_XGw_Kq"
      },
      "execution_count": null,
      "outputs": []
    },
    {
      "cell_type": "markdown",
      "source": [
        "## Evaluate the model"
      ],
      "metadata": {
        "id": "SD3mmrvCxFeI"
      }
    },
    {
      "cell_type": "code",
      "source": [
        "epochs=50\n",
        "history = model.fit(\n",
        "  train_ds,\n",
        "  validation_data=val_ds,\n",
        "  epochs=epochs,\n",
        "  callbacks=[early_stopping]\n",
        ")"
      ],
      "metadata": {
        "colab": {
          "base_uri": "https://localhost:8080/"
        },
        "id": "8bqt2BzUxMBS",
        "outputId": "a8b8a6d6-be03-48bd-fbcb-57237410b5ac"
      },
      "execution_count": null,
      "outputs": [
        {
          "output_type": "stream",
          "name": "stdout",
          "text": [
            "Epoch 1/50\n"
          ]
        },
        {
          "output_type": "stream",
          "name": "stderr",
          "text": [
            "/usr/local/lib/python3.10/dist-packages/keras/src/backend.py:5727: UserWarning: \"`sparse_categorical_crossentropy` received `from_logits=True`, but the `output` argument was produced by a Softmax activation and thus does not represent logits. Was this intended?\n",
            "  output, from_logits = _get_logits(\n"
          ]
        },
        {
          "output_type": "stream",
          "name": "stdout",
          "text": [
            "20/20 [==============================] - 3s 66ms/step - loss: 1.8240 - accuracy: 0.6634 - val_loss: 0.8445 - val_accuracy: 0.8954\n",
            "Epoch 2/50\n",
            "20/20 [==============================] - 1s 52ms/step - loss: 0.5941 - accuracy: 0.8878 - val_loss: 0.5821 - val_accuracy: 0.9020\n",
            "Epoch 3/50\n",
            "20/20 [==============================] - 1s 48ms/step - loss: 0.4988 - accuracy: 0.9008 - val_loss: 0.5940 - val_accuracy: 0.8824\n",
            "Epoch 4/50\n",
            "20/20 [==============================] - 1s 52ms/step - loss: 0.4135 - accuracy: 0.9317 - val_loss: 0.4955 - val_accuracy: 0.9150\n",
            "Epoch 5/50\n",
            "20/20 [==============================] - 1s 52ms/step - loss: 0.3490 - accuracy: 0.9561 - val_loss: 0.4481 - val_accuracy: 0.9150\n",
            "Epoch 6/50\n",
            "20/20 [==============================] - 1s 52ms/step - loss: 0.3070 - accuracy: 0.9626 - val_loss: 0.4272 - val_accuracy: 0.9281\n",
            "Epoch 7/50\n",
            "20/20 [==============================] - 1s 52ms/step - loss: 0.2942 - accuracy: 0.9528 - val_loss: 0.4117 - val_accuracy: 0.9281\n",
            "Epoch 8/50\n",
            "20/20 [==============================] - 1s 48ms/step - loss: 0.2911 - accuracy: 0.9577 - val_loss: 0.4158 - val_accuracy: 0.9216\n",
            "Epoch 9/50\n",
            "20/20 [==============================] - 1s 54ms/step - loss: 0.2933 - accuracy: 0.9593 - val_loss: 0.3980 - val_accuracy: 0.9477\n",
            "Epoch 10/50\n",
            "20/20 [==============================] - 1s 54ms/step - loss: 0.2636 - accuracy: 0.9724 - val_loss: 0.4041 - val_accuracy: 0.9346\n",
            "Epoch 11/50\n",
            "20/20 [==============================] - 1s 54ms/step - loss: 0.2315 - accuracy: 0.9805 - val_loss: 0.4739 - val_accuracy: 0.9085\n",
            "Epoch 12/50\n",
            "20/20 [==============================] - 1s 56ms/step - loss: 0.2341 - accuracy: 0.9772 - val_loss: 0.3822 - val_accuracy: 0.9412\n",
            "Epoch 13/50\n",
            "20/20 [==============================] - 1s 54ms/step - loss: 0.2016 - accuracy: 0.9870 - val_loss: 0.3729 - val_accuracy: 0.9477\n",
            "Epoch 14/50\n",
            "20/20 [==============================] - 1s 54ms/step - loss: 0.2239 - accuracy: 0.9659 - val_loss: 0.3686 - val_accuracy: 0.9281\n",
            "Epoch 15/50\n",
            "20/20 [==============================] - 1s 50ms/step - loss: 0.2276 - accuracy: 0.9724 - val_loss: 0.4406 - val_accuracy: 0.9150\n",
            "Epoch 16/50\n",
            "20/20 [==============================] - 1s 50ms/step - loss: 0.2099 - accuracy: 0.9821 - val_loss: 0.3701 - val_accuracy: 0.9346\n",
            "Epoch 17/50\n",
            "20/20 [==============================] - 1s 49ms/step - loss: 0.1937 - accuracy: 0.9870 - val_loss: 0.3757 - val_accuracy: 0.9281\n",
            "Epoch 18/50\n",
            "20/20 [==============================] - 1s 51ms/step - loss: 0.1639 - accuracy: 0.9951 - val_loss: 0.3725 - val_accuracy: 0.9542\n",
            "Epoch 19/50\n",
            "20/20 [==============================] - 1s 50ms/step - loss: 0.1489 - accuracy: 0.9951 - val_loss: 0.3743 - val_accuracy: 0.9542\n",
            "Epoch 20/50\n",
            "20/20 [==============================] - 1s 50ms/step - loss: 0.1470 - accuracy: 0.9919 - val_loss: 0.3735 - val_accuracy: 0.9412\n",
            "Epoch 21/50\n",
            "20/20 [==============================] - 1s 55ms/step - loss: 0.1503 - accuracy: 0.9902 - val_loss: 0.3481 - val_accuracy: 0.9216\n",
            "Epoch 22/50\n",
            "20/20 [==============================] - 1s 52ms/step - loss: 0.1654 - accuracy: 0.9902 - val_loss: 0.5011 - val_accuracy: 0.8954\n",
            "Epoch 23/50\n",
            "20/20 [==============================] - 1s 54ms/step - loss: 0.1867 - accuracy: 0.9805 - val_loss: 0.3591 - val_accuracy: 0.9216\n",
            "Epoch 24/50\n",
            "20/20 [==============================] - 1s 51ms/step - loss: 0.1773 - accuracy: 0.9919 - val_loss: 0.3852 - val_accuracy: 0.9542\n",
            "Epoch 25/50\n",
            "20/20 [==============================] - 1s 49ms/step - loss: 0.1455 - accuracy: 0.9967 - val_loss: 0.3934 - val_accuracy: 0.9346\n",
            "Epoch 26/50\n",
            "20/20 [==============================] - 1s 50ms/step - loss: 0.1358 - accuracy: 0.9951 - val_loss: 0.3794 - val_accuracy: 0.9412\n",
            "Epoch 27/50\n",
            "20/20 [==============================] - 1s 49ms/step - loss: 0.1441 - accuracy: 0.9935 - val_loss: 0.4001 - val_accuracy: 0.9542\n",
            "Epoch 28/50\n",
            "20/20 [==============================] - 1s 50ms/step - loss: 0.1650 - accuracy: 0.9789 - val_loss: 0.4874 - val_accuracy: 0.8889\n",
            "Epoch 29/50\n",
            "20/20 [==============================] - 1s 51ms/step - loss: 0.2396 - accuracy: 0.9577 - val_loss: 0.5712 - val_accuracy: 0.8824\n",
            "Epoch 30/50\n",
            "20/20 [==============================] - 1s 49ms/step - loss: 0.2306 - accuracy: 0.9691 - val_loss: 0.4102 - val_accuracy: 0.9281\n",
            "Epoch 31/50\n",
            "20/20 [==============================] - ETA: 0s - loss: 0.1959 - accuracy: 0.9902Restoring model weights from the end of the best epoch: 21.\n",
            "20/20 [==============================] - 1s 53ms/step - loss: 0.1959 - accuracy: 0.9902 - val_loss: 0.4171 - val_accuracy: 0.9281\n",
            "Epoch 31: early stopping\n"
          ]
        }
      ]
    },
    {
      "cell_type": "code",
      "source": [
        "loss, acc = model.evaluate(val_ds)\n",
        "print(\"Accuracy\", acc)"
      ],
      "metadata": {
        "colab": {
          "base_uri": "https://localhost:8080/"
        },
        "id": "ZVPIXGX8xQYp",
        "outputId": "dc75ddd3-b4fd-44c5-b6a5-0c0317341e23"
      },
      "execution_count": null,
      "outputs": [
        {
          "output_type": "stream",
          "name": "stdout",
          "text": [
            "5/5 [==============================] - 0s 13ms/step - loss: 0.3481 - accuracy: 0.9216\n",
            "Accuracy 0.9215686321258545\n"
          ]
        }
      ]
    },
    {
      "cell_type": "markdown",
      "source": [
        "# Base Model Documentation\n",
        "\n",
        "## Dataset Loading and Preparation\n",
        "\n",
        "- **Dataset**: `flower_dataset`, split into `girasoles` (sunflowers) and `rosas` (roses) subfolders.\n",
        "- **Preprocessing**:\n",
        "    - Resize images to 180x180 pixels.\n",
        "    - Split the dataset into training and validation sets with an 80/20 ratio.\n",
        "    - Normalize pixel values to a range of [0, 1].\n",
        "\n",
        "## Model Architecture\n",
        "\n",
        "- **Convolutional Neural Network (CNN) Model**:\n",
        "    - Rescaling layer to normalize images.\n",
        "    - Three convolutional layers with ReLU activation and max pooling.\n",
        "    - Flatten layer to transition the output to dense layers smoothly.\n",
        "    - A dense layer with 128 neurons and ReLU activation.\n",
        "    - Output dense layer with 2 neurons (for sunflowers and roses) with softmax activation.\n",
        "\n",
        "## Compilation and Training\n",
        "\n",
        "- **Compilation**:\n",
        "    - Optimizer: Adam.\n",
        "    - Loss function: SparseCategoricalCrossentropy (with logits).\n",
        "    - Metrics: Accuracy.\n",
        "- **Training**:\n",
        "    - 10 epochs, showing continuous improvement in accuracy and a decrease in loss.\n",
        "\n",
        "## Results\n",
        "\n",
        "- **Final Training Accuracy**: Approximately 98.86%.\n",
        "- **Final Validation Accuracy**: Approximately 94.77%.\n",
        "\n",
        "## Improvement Suggestions\n",
        "\n",
        "1. **Early Stopping Implementation**\n",
        "\n",
        "    To prevent overfitting and to select the best possible model without a fixed number of epochs, you can use an EarlyStopping callback in Keras. This stops training when a monitored metric has stopped improving.\n",
        "\n",
        "2. **Regularization and Dropout**\n",
        "\n",
        "    Adding Dropout layers can help prevent overfitting by randomly \"turning off\" a percentage of neurons during training. L2 regularization is another technique that penalizes large weights in the network, also helping to mitigate overfitting.\n",
        "\n",
        "3. **Hyperparameter Tuning**\n",
        "\n",
        "    Experimenting with different learning rates, batch sizes, and optimizers can lead to improvements in the model's accuracy and generalization.\n",
        "\n",
        "4. **Advanced Architecture and Transfer Learning**\n",
        "\n",
        "    Consider testing more complex network architectures or using pre-trained models like VGG16, ResNet, or MobileNet for Transfer Learning, which can be particularly beneficial if your dataset is relatively small.\n",
        "\n",
        "5. **Data Augmentation**\n",
        "\n",
        "    Although you initially decided against using data augmentation, this technique can improve the model's generalization ability by introducing variability into the training set. Keras offers several easy-to-implement data augmentation options.\n"
      ],
      "metadata": {
        "id": "sXQB6e89yx-Y"
      }
    },
    {
      "cell_type": "code",
      "source": [
        "import matplotlib.pyplot as plt\n",
        "\n",
        "# Extract the history for accuracy and loss\n",
        "acc = history.history['accuracy']\n",
        "val_acc = history.history['val_accuracy']\n",
        "loss = history.history['loss']\n",
        "val_loss = history.history['val_loss']\n",
        "\n",
        "epochs = range(1, len(acc) + 1)\n",
        "\n",
        "# Plot training and validation accuracy\n",
        "plt.figure(figsize=(12, 5))\n",
        "plt.subplot(1, 2, 1)\n",
        "plt.plot(epochs, acc, 'bo', label='Training accuracy')\n",
        "plt.plot(epochs, val_acc, 'b', label='Validation accuracy')\n",
        "plt.title('Training and validation accuracy')\n",
        "plt.xlabel('Epochs')\n",
        "plt.ylabel('Accuracy')\n",
        "plt.legend()\n",
        "\n",
        "# Plot training and validation loss\n",
        "plt.subplot(1, 2, 2)\n",
        "plt.plot(epochs, loss, 'bo', label='Training loss')\n",
        "plt.plot(epochs, val_loss, 'b', label='Validation loss')\n",
        "plt.title('Training and validation loss')\n",
        "plt.xlabel('Epochs')\n",
        "plt.ylabel('Loss')\n",
        "plt.legend()\n",
        "\n",
        "plt.tight_layout()\n",
        "plt.show()\n"
      ],
      "metadata": {
        "colab": {
          "base_uri": "https://localhost:8080/",
          "height": 473
        },
        "id": "Gy004V9zy11k",
        "outputId": "0bc1d99f-6567-4516-a777-8d6c17199ed2"
      },
      "execution_count": null,
      "outputs": [
        {
          "output_type": "display_data",
          "data": {
            "text/plain": [
              "<Figure size 1200x500 with 2 Axes>"
            ],
            "image/png": "[encoded data removed]"
          },
          "metadata": {}
        }
      ]
    },
    {
      "cell_type": "markdown",
      "source": [
        "## 1. Model with early stopping\n",
        "The results made by the early stopping in the validation loss. Probably is overfitting, we have to change it to eliminate this.\n",
        "\n",
        "### Training Outcome with Early Stopping\n",
        "\n",
        "Final Training Loss: Approximately 1.5526e-04, indicating the model has learned the training data exceptionally well to achieve such a low loss value.\n",
        "Final Training Accuracy: 100%, showing the model perfectly classified all training images by the time training was stopped.\n",
        "Validation Loss at Stopping: 0.4452, which is the metric monitored for early stopping. This suggests that while the model performs excellently on the training set, there is a notable discrepancy when predicting on unseen data, hinting at overfitting.\n",
        "Validation Accuracy at Stopping: 93.46%, a strong performance on the validation set, although not as perfect as on the training set, which is typical and expected in machine learning models due to the generalization gap.\n",
        "\n",
        "### Key Points\n",
        "\n",
        "Early Stopping Triggered: The training stopped early at epoch 10, and the model weights were restored from the end of the best epoch based on the validation loss, which was epoch 5. This is a protective measure against overfitting, ensuring the model retained when it had the best generalization performance.\n",
        "Overfitting Indication: The significant difference between the training accuracy (100%) and the validation accuracy (93.46%), along with a low training loss and relatively higher validation loss, suggests the model might be overfitting. The model has learned the training data too well, including its noise and outliers, which does not generalize perfectly on new, unseen data.\n",
        "Restoring Best Weights: The callback restored the model's weights from the best epoch, aligning with the goal of early stopping to preserve the model state with the optimal balance between learning and generalization capabilities.\n",
        "\n",
        "### Conclusion and Next Steps\n",
        "\n",
        "Model Performance: Your model is very accurate on the training set but shows signs of overfitting, as evidenced by the early stopping mechanism kicking in due to a lack of improvement on the validation set.\n",
        "Addressing Overfitting: Consider implementing strategies to further mitigate overfitting, such as introducing dropout layers, applying regularization techniques, or expanding your dataset (if possible) to improve the model's ability to generalize.\n",
        "Evaluation and Tuning: It's recommended to evaluate the model on a separate test set (if available) to gauge its real-world performance. Further tuning of hyperparameters, model architecture, or training strategy may also yield improvements in both performance and generalization.\n",
        "\n"
      ],
      "metadata": {
        "id": "QjzE6Ca7y5wC"
      }
    },
    {
      "cell_type": "markdown",
      "source": [
        "## Transfer learning example\n"
      ],
      "metadata": {
        "id": "8xdLkv3j6j41"
      }
    },
    {
      "cell_type": "code",
      "source": [
        "import tensorflow as tf\n",
        "\n",
        "dataset_path = '/content/flower_dataset'  # Asegúrate de cambiar esto por la ruta real de tu dataset\n",
        "\n",
        "batch_size = 32\n",
        "img_height = 224\n",
        "img_width = 224\n",
        "\n",
        "train_ds = tf.keras.preprocessing.image_dataset_from_directory(\n",
        "    dataset_path,\n",
        "    validation_split=0.2,\n",
        "    subset=\"training\",\n",
        "    seed=123,\n",
        "    image_size=(img_height, img_width),\n",
        "    batch_size=batch_size)\n",
        "\n",
        "val_ds = tf.keras.preprocessing.image_dataset_from_directory(\n",
        "    dataset_path,\n",
        "    validation_split=0.2,\n",
        "    subset=\"validation\",\n",
        "    seed=123,\n",
        "    image_size=(img_height, img_width),\n",
        "    batch_size=batch_size)\n"
      ],
      "metadata": {
        "colab": {
          "base_uri": "https://localhost:8080/"
        },
        "id": "BqlqFvph64zD",
        "outputId": "e76624ed-283e-4c56-8b39-945a755f0ef1"
      },
      "execution_count": null,
      "outputs": [
        {
          "output_type": "stream",
          "name": "stdout",
          "text": [
            "Found 768 files belonging to 2 classes.\n",
            "Using 615 files for training.\n",
            "Found 768 files belonging to 2 classes.\n",
            "Using 153 files for validation.\n"
          ]
        }
      ]
    },
    {
      "cell_type": "code",
      "source": [
        "from tensorflow.keras.applications import ResNet50\n",
        "from tensorflow.keras import layers, models\n",
        "\n",
        "# Cargar ResNet50 preentrenado sin la capa superior\n",
        "base_model = ResNet50(weights='imagenet', include_top=False, input_shape=(224, 224, 3))\n",
        "\n",
        "# Congelar el modelo base para no modificar los pesos durante el primer entrenamiento\n",
        "base_model.trainable = False\n",
        "\n",
        "# Crear la nueva cabeza del modelo (capas superiores) para la clasificación\n",
        "model = models.Sequential([\n",
        "    data_augmentation,\n",
        "    base_model,\n",
        "    layers.GlobalAveragePooling2D(),\n",
        "    layers.Dense(128, activation='relu'),\n",
        "    layers.Dense(2, activation='softmax')  # Cambiar según el número de clases\n",
        "])\n",
        "\n",
        "model.compile(optimizer='adam',\n",
        "              loss='sparse_categorical_crossentropy',\n",
        "              metrics=['accuracy'])\n"
      ],
      "metadata": {
        "colab": {
          "base_uri": "https://localhost:8080/"
        },
        "id": "G2v8rHT769Pv",
        "outputId": "04cf24f3-f398-46c6-baea-78eb7a173875"
      },
      "execution_count": null,
      "outputs": [
        {
          "output_type": "stream",
          "name": "stdout",
          "text": [
            "Downloading data from https://storage.googleapis.com/tensorflow/keras-applications/resnet/resnet50_weights_tf_dim_ordering_tf_kernels_notop.h5\n",
            "94765736/94765736 [==============================] - 0s 0us/step\n"
          ]
        }
      ]
    },
    {
      "cell_type": "code",
      "source": [
        "epochs = 50  # Ajusta este valor según sea necesario\n",
        "history = model.fit(train_ds,\n",
        "                    validation_data=val_ds,\n",
        "                    epochs=epochs,\n",
        "                    callbacks=[early_stopping])\n"
      ],
      "metadata": {
        "colab": {
          "base_uri": "https://localhost:8080/"
        },
        "id": "ade2pT607NWH",
        "outputId": "12a4f127-de27-4eb5-fe18-fe89fc955c91"
      },
      "execution_count": null,
      "outputs": [
        {
          "output_type": "stream",
          "name": "stdout",
          "text": [
            "Epoch 1/50\n",
            "20/20 [==============================] - 4s 161ms/step - loss: 0.0276 - accuracy: 0.9902 - val_loss: 0.1850 - val_accuracy: 0.9608\n",
            "Epoch 2/50\n",
            "20/20 [==============================] - 3s 151ms/step - loss: 0.0216 - accuracy: 0.9919 - val_loss: 0.1130 - val_accuracy: 0.9673\n",
            "Epoch 3/50\n",
            "20/20 [==============================] - 4s 187ms/step - loss: 0.0131 - accuracy: 0.9951 - val_loss: 0.0912 - val_accuracy: 0.9739\n",
            "Epoch 4/50\n",
            "20/20 [==============================] - 4s 180ms/step - loss: 0.0083 - accuracy: 0.9984 - val_loss: 0.1020 - val_accuracy: 0.9804\n",
            "Epoch 5/50\n",
            "20/20 [==============================] - 3s 147ms/step - loss: 0.0187 - accuracy: 0.9935 - val_loss: 0.1269 - val_accuracy: 0.9608\n",
            "Epoch 6/50\n",
            "20/20 [==============================] - 4s 151ms/step - loss: 0.0223 - accuracy: 0.9886 - val_loss: 0.1253 - val_accuracy: 0.9739\n",
            "Epoch 7/50\n",
            "20/20 [==============================] - 3s 147ms/step - loss: 0.0098 - accuracy: 0.9967 - val_loss: 0.1057 - val_accuracy: 0.9739\n",
            "Epoch 8/50\n",
            "20/20 [==============================] - 3s 147ms/step - loss: 0.0085 - accuracy: 0.9984 - val_loss: 0.1286 - val_accuracy: 0.9739\n",
            "Epoch 9/50\n",
            "20/20 [==============================] - 4s 181ms/step - loss: 0.0211 - accuracy: 0.9935 - val_loss: 0.2130 - val_accuracy: 0.9477\n",
            "Epoch 10/50\n",
            "20/20 [==============================] - 3s 147ms/step - loss: 0.0233 - accuracy: 0.9886 - val_loss: 0.1659 - val_accuracy: 0.9608\n",
            "Epoch 11/50\n",
            "20/20 [==============================] - 3s 147ms/step - loss: 0.0173 - accuracy: 0.9951 - val_loss: 0.1826 - val_accuracy: 0.9608\n",
            "Epoch 12/50\n",
            "20/20 [==============================] - 3s 147ms/step - loss: 0.0244 - accuracy: 0.9935 - val_loss: 0.0923 - val_accuracy: 0.9804\n",
            "Epoch 13/50\n",
            "19/20 [===========================>..] - ETA: 0s - loss: 0.0204 - accuracy: 0.9951Restoring model weights from the end of the best epoch: 3.\n",
            "20/20 [==============================] - 4s 172ms/step - loss: 0.0201 - accuracy: 0.9951 - val_loss: 0.0943 - val_accuracy: 0.9804\n",
            "Epoch 13: early stopping\n"
          ]
        }
      ]
    },
    {
      "cell_type": "code",
      "source": [
        "model.save('flowers_classification.h5')  # HDF5 format"
      ],
      "metadata": {
        "colab": {
          "base_uri": "https://localhost:8080/"
        },
        "id": "yc7904h27-md",
        "outputId": "264c9038-0d76-4a05-8d70-ebf3a31c597b"
      },
      "execution_count": null,
      "outputs": [
        {
          "output_type": "stream",
          "name": "stderr",
          "text": [
            "/usr/local/lib/python3.10/dist-packages/keras/src/engine/training.py:3103: UserWarning: You are saving your model as an HDF5 file via `model.save()`. This file format is considered legacy. We recommend using instead the native Keras format, e.g. `model.save('my_model.keras')`.\n",
            "  saving_api.save_model(\n"
          ]
        }
      ]
    }
  ]
}